{
 "cells": [
  {
   "cell_type": "markdown",
   "metadata": {},
   "source": [
    "# Notebook for own Data"
   ]
  },
  {
   "cell_type": "code",
   "execution_count": 31,
   "metadata": {},
   "outputs": [
    {
     "name": "stdout",
     "output_type": "stream",
     "text": "Notebook initialized execution at 02.19.2020_15.13.12.\n"
    }
   ],
   "source": [
    "import os\n",
    "import gc\n",
    "import pytz\n",
    "import operator\n",
    "import numpy as np\n",
    "import pickle as pkl\n",
    "import xgboost as xgb\n",
    "from time import sleep\n",
    "from datetime import datetime\n",
    "from sklearn.preprocessing import StandardScaler\n",
    "from sklearn.model_selection import train_test_split\n",
    "from sklearn.preprocessing import OneHotEncoder\n",
    "\n",
    "import warnings\n",
    "warnings.filterwarnings('ignore')\n",
    "warnings.filterwarnings(action = 'ignore', category = FutureWarning)\n",
    "warnings.filterwarnings(action = 'ignore', category = DeprecationWarning)\n",
    "\n",
    "import pandas as pd\n",
    "pd.set_option('display.max_rows', 500)\n",
    "pd.set_option('display.max_columns', 500)\n",
    "\n",
    "import sys\n",
    "sys.path.append('..')\n",
    "\n",
    "time = datetime.now(pytz.timezone('Europe/Oslo')).strftime('%m.%d.%Y_%H.%M.%S')\n",
    "print(f'Notebook initialized execution at {time}.')"
   ]
  },
  {
   "cell_type": "markdown",
   "metadata": {},
   "source": [
    "## General Methods"
   ]
  },
  {
   "cell_type": "code",
   "execution_count": 32,
   "metadata": {},
   "outputs": [],
   "source": [
    "def memory_optimization(dfs):\n",
    "    for df in dfs:\n",
    "        del df\n",
    "    gc.collect()"
   ]
  },
  {
   "cell_type": "markdown",
   "metadata": {},
   "source": [
    "## Split Training and Validation"
   ]
  },
  {
   "cell_type": "code",
   "execution_count": 33,
   "metadata": {},
   "outputs": [],
   "source": [
    "def clean_and_encode(df):\n",
    "\n",
    "    df = df.fillna(value = 0)\n",
    "\n",
    "    fucked_cols = ['url', 'Kommunale avg.', 'Energimerking', 'Tomt', 'Utleiedel', 'Postadresse'] \n",
    "    fucked_cols = [col for col in fucked_cols if col in df.columns]\n",
    "    df = df.drop(fucked_cols, axis=1)\n",
    "    \n",
    "    print(df.head(1))\n",
    "    cat_col = ['Boligtype', 'Eieform']\n",
    "\n",
    "    for col in cat_col:\n",
    "        df_dummies = pd.get_dummies(df[col], prefix=col)\n",
    "        df = pd.concat([df, df_dummies], axis=1).drop([col], axis=1)\n",
    "\n",
    "    print(df.head(1))\n",
    "    return df\n",
    "\n"
   ]
  },
  {
   "cell_type": "code",
   "execution_count": 34,
   "metadata": {},
   "outputs": [],
   "source": [
    "def split(df_train):\n",
    "    train_X, validation_X = train_test_split(df_train, test_size = 0.2, random_state = 0)\n",
    "    test_X, validation_X = train_test_split(validation_X, test_size = 0.5, random_state = 0)\n",
    "\n",
    "    train_X = train_X.reset_index()\n",
    "    validation_X = validation_X.reset_index()\n",
    "    test_X = test_X.reset_index()\n",
    "    target = 'Totalpris'\n",
    "\n",
    "    train_y = train_X['Totalpris']\n",
    "    #train_y = train_y.replace([np.inf, -np.inf], np.nan)\n",
    "    train_y = train_y.reset_index()\n",
    "    train_y = train_y.drop(['index'], axis = 1)\n",
    "    validation_y = validation_X[target]\n",
    "    #validation_y = validation_y.replace([np.inf, -np.inf], np.nan)\n",
    "    validation_y = validation_y.reset_index()\n",
    "    validation_y = validation_y.drop(['index'], axis = 1)\n",
    "    test_y = test_X[target]\n",
    "    #test_y = test_y.replace([np.inf, -np.inf], np.nan)\n",
    "    test_y = test_y.reset_index()\n",
    "    test_y = test_y.drop(['index'], axis = 1)\n",
    "\n",
    "    train_X = train_X.drop(target, axis = 1)\n",
    "    validation_X = validation_X.drop(target, axis = 1)\n",
    "    test_X = test_X.drop(target, axis = 1)\n",
    "    \n",
    "    train_X = train_X.drop(['index'], axis = 1)\n",
    "    validation_X = validation_X.drop(['index'], axis = 1)\n",
    "    test_X = test_X.drop(['index'], axis = 1)\n",
    "\n",
    "    \n",
    "    return train_X, train_y, validation_X, validation_y, test_X, test_y"
   ]
  },
  {
   "cell_type": "markdown",
   "metadata": {},
   "source": [
    "## XGB Training"
   ]
  },
  {
   "cell_type": "code",
   "execution_count": 35,
   "metadata": {},
   "outputs": [],
   "source": [
    "def xgb_train( train_X, train_y, validation_X, validation_y):\n",
    "    model_name_wrt = f'../models/model_finn.hdf5'\n",
    "\n",
    "    xgb_model = xgb.XGBRegressor(base_score = 0.5, booster = 'gbtree', colsample_bylevel = 1,\n",
    "                                 colsample_bytree = 1, gamma = 0, importance_type = 'gain',\n",
    "                                 learning_rate = 0.1, max_delta_step = 0, max_depth = 9,\n",
    "                                 min_child_weight = 1, missing = None, n_estimators = 10000, n_jobs = -1,\n",
    "                                 nthread = None, objective = 'reg:squarederror', random_state = 101, reg_alpha = 2,\n",
    "                                 reg_lambda = 0.2, scale_pos_weight = 1, seed = None, silent = False, subsample = 1)\n",
    "\n",
    "    xgb_model.fit(train_X, train_y, eval_set = [(validation_X, validation_y)], eval_metric = 'mae', \n",
    "                  early_stopping_rounds = 32, verbose = True)   \n",
    "    \n",
    "    xgb_model.save_model(model_name_wrt)\n",
    "    \n",
    "    return xgb_model"
   ]
  },
  {
   "cell_type": "code",
   "execution_count": 36,
   "metadata": {},
   "outputs": [],
   "source": [
    "def importance(xgb_model, train_X):\n",
    "    input_features = train_X.columns.values\n",
    "    feat_imp = xgb_model.feature_importances_\n",
    "    np.split(feat_imp, len(input_features))\n",
    "    \n",
    "    feat_imp_dict = {}\n",
    "    for i in range(0, len(input_features)):\n",
    "        feat_imp_dict[feat_imp[i]] = input_features[i]\n",
    "\n",
    "    sorted_feats = sorted(feat_imp_dict.items(), key = operator.itemgetter(0))\n",
    "    for i in range(len(sorted_feats) - 1, 0, -1):\n",
    "        print(sorted_feats[i])"
   ]
  },
  {
   "cell_type": "markdown",
   "execution_count": 107,
   "metadata": {},
   "outputs": [],
   "source": [
    "## Prepare Data"
   ]
  },
  {
   "cell_type": "code",
   "execution_count": 37,
   "metadata": {},
   "outputs": [
    {
     "name": "stdout",
     "output_type": "stream",
     "text": "Omkostninger  Totalpris  Felleskost/mnd.  Boligtype          Eieform  \\\n0         80320  2970320.0             2390  Leilighet  Eier (Selveier)   \n\n   Soverom  Primærrom  Bruksareal  Etasje  Byggeår  parkering  fiber  \\\n0      1.0       47.0        51.0     2.0     2017       True  False   \n\n   kabel-tv  tg 0   tg 1   tg 2  vedovn  varmepumpe  fjernvarme  terasse  \\\n0      True  True  False  False   False       False        True     True   \n\n   utsikt  kjøkkenøy   hage  garderobe  oppusset  oppussingsobjekt   bod  \\\n0   False      False  False      False      True             False  True   \n\n         lat       lon  Rom  Fellesgjeld  Fellesformue  Energikarakter  \\\n0  62.647635  8.713596  2.0            0             0               1   \n\n   Oppvarmingskarakter  Telefon  Felleskost/mnd. etter avdragsfri periode  \\\n0                    0      0.0                                       0.0   \n\n   Festeavgift  Grunnflate  \n0          0.0         0.0  \n   Omkostninger  Totalpris  Felleskost/mnd.  Soverom  Primærrom  Bruksareal  \\\n0         80320  2970320.0             2390      1.0       47.0        51.0   \n\n   Etasje  Byggeår  parkering  fiber  kabel-tv  tg 0   tg 1   tg 2  vedovn  \\\n0     2.0     2017       True  False      True  True  False  False   False   \n\n   varmepumpe  fjernvarme  terasse  utsikt  kjøkkenøy   hage  garderobe  \\\n0       False        True     True   False      False  False      False   \n\n   oppusset  oppussingsobjekt   bod        lat       lon  Rom  Fellesgjeld  \\\n0      True             False  True  62.647635  8.713596  2.0            0   \n\n   Fellesformue  Energikarakter  Oppvarmingskarakter  Telefon  \\\n0             0               1                    0      0.0   \n\n   Felleskost/mnd. etter avdragsfri periode  Festeavgift  Grunnflate  \\\n0                                       0.0          0.0         0.0   \n\n   Boligtype_Andre  Boligtype_Enebolig  Boligtype_Gårdsbruk/Småbruk  \\\n0                0                   0                            0   \n\n   Boligtype_Leilighet  Boligtype_Rekkehus  Boligtype_Tomannsbolig  \\\n0                    1                   0                       0   \n\n   Eieform_Aksje  Eieform_Andel  Eieform_Eier (Selveier)  \n0              0              0                        1  \n"
    }
   ],
   "source": [
    "start_time = datetime.now()\n",
    "\n",
    "df = pd.read_csv(f'../input/trondheimv2.csv')\n",
    "\n",
    "df = clean_and_encode(df)\n",
    "\n",
    "train_X, train_y, validation_X, validation_y, test_X, test_y = split(df)"
   ]
  },
  {
   "cell_type": "markdown",
   "execution_count": null,
   "metadata": {},
   "outputs": [],
   "source": [
    "## Train and predict"
   ]
  },
  {
   "cell_type": "code",
   "execution_count": 38,
   "metadata": {},
   "outputs": [
    {
     "name": "stdout",
     "output_type": "stream",
     "text": "[0]\tvalidation_0-mae:3.92888e+06\nWill train until validation_0-mae hasn't improved in 32 rounds.\n[1]\tvalidation_0-mae:3.55379e+06\n[2]\tvalidation_0-mae:3.2043e+06\n[3]\tvalidation_0-mae:2.88295e+06\n[4]\tvalidation_0-mae:2.5998e+06\n[5]\tvalidation_0-mae:2.35004e+06\n[6]\tvalidation_0-mae:2.12714e+06\n[7]\tvalidation_0-mae:1.92373e+06\n[8]\tvalidation_0-mae:1.74485e+06\n[9]\tvalidation_0-mae:1.57884e+06\n[10]\tvalidation_0-mae:1.43472e+06\n[11]\tvalidation_0-mae:1.30944e+06\n[12]\tvalidation_0-mae:1.19819e+06\n[13]\tvalidation_0-mae:1.09962e+06\n[14]\tvalidation_0-mae:1.01572e+06\n[15]\tvalidation_0-mae:942348\n[16]\tvalidation_0-mae:881095\n[17]\tvalidation_0-mae:823888\n[18]\tvalidation_0-mae:771406\n[19]\tvalidation_0-mae:724181\n[20]\tvalidation_0-mae:686850\n[21]\tvalidation_0-mae:651044\n[22]\tvalidation_0-mae:618816\n[23]\tvalidation_0-mae:590444\n[24]\tvalidation_0-mae:564758\n[25]\tvalidation_0-mae:543318\n[26]\tvalidation_0-mae:525616\n[27]\tvalidation_0-mae:514752\n[28]\tvalidation_0-mae:506132\n[29]\tvalidation_0-mae:499821\n[30]\tvalidation_0-mae:491174\n[31]\tvalidation_0-mae:483488\n[32]\tvalidation_0-mae:479548\n[33]\tvalidation_0-mae:474117\n[34]\tvalidation_0-mae:471461\n[35]\tvalidation_0-mae:468346\n[36]\tvalidation_0-mae:466038\n[37]\tvalidation_0-mae:462829\n[38]\tvalidation_0-mae:461002\n[39]\tvalidation_0-mae:457499\n[40]\tvalidation_0-mae:455729\n[41]\tvalidation_0-mae:454447\n[42]\tvalidation_0-mae:453095\n[43]\tvalidation_0-mae:451441\n[44]\tvalidation_0-mae:451149\n[45]\tvalidation_0-mae:450693\n[46]\tvalidation_0-mae:451125\n[47]\tvalidation_0-mae:450506\n[48]\tvalidation_0-mae:450033\n[49]\tvalidation_0-mae:449777\n[50]\tvalidation_0-mae:449629\n[51]\tvalidation_0-mae:449006\n[52]\tvalidation_0-mae:448460\n[53]\tvalidation_0-mae:448430\n[54]\tvalidation_0-mae:448815\n[55]\tvalidation_0-mae:448353\n[56]\tvalidation_0-mae:448109\n[57]\tvalidation_0-mae:447893\n[58]\tvalidation_0-mae:447846\n[59]\tvalidation_0-mae:447471\n[60]\tvalidation_0-mae:447005\n[61]\tvalidation_0-mae:446962\n[62]\tvalidation_0-mae:446476\n[63]\tvalidation_0-mae:445866\n[64]\tvalidation_0-mae:445528\n[65]\tvalidation_0-mae:445241\n[66]\tvalidation_0-mae:445133\n[67]\tvalidation_0-mae:444965\n[68]\tvalidation_0-mae:445380\n[69]\tvalidation_0-mae:445668\n[70]\tvalidation_0-mae:445981\n[71]\tvalidation_0-mae:445537\n[72]\tvalidation_0-mae:445362\n[73]\tvalidation_0-mae:445282\n[74]\tvalidation_0-mae:445440\n[75]\tvalidation_0-mae:445288\n[76]\tvalidation_0-mae:445021\n[77]\tvalidation_0-mae:444855\n[78]\tvalidation_0-mae:444811\n[79]\tvalidation_0-mae:444936\n[80]\tvalidation_0-mae:444797\n[81]\tvalidation_0-mae:444700\n[82]\tvalidation_0-mae:444894\n[83]\tvalidation_0-mae:444758\n[84]\tvalidation_0-mae:444652\n[85]\tvalidation_0-mae:444645\n[86]\tvalidation_0-mae:444604\n[87]\tvalidation_0-mae:444343\n[88]\tvalidation_0-mae:444322\n[89]\tvalidation_0-mae:444511\n[90]\tvalidation_0-mae:444518\n[91]\tvalidation_0-mae:444484\n[92]\tvalidation_0-mae:444462\n[93]\tvalidation_0-mae:444353\n[94]\tvalidation_0-mae:444309\n[95]\tvalidation_0-mae:444218\n[96]\tvalidation_0-mae:444203\n[97]\tvalidation_0-mae:444112\n[98]\tvalidation_0-mae:443982\n[99]\tvalidation_0-mae:444152\n[100]\tvalidation_0-mae:444219\n[101]\tvalidation_0-mae:444274\n[102]\tvalidation_0-mae:444268\n[103]\tvalidation_0-mae:444366\n[104]\tvalidation_0-mae:444477\n[105]\tvalidation_0-mae:444470\n[106]\tvalidation_0-mae:444407\n[107]\tvalidation_0-mae:444498\n[108]\tvalidation_0-mae:444510\n[109]\tvalidation_0-mae:444514\n[110]\tvalidation_0-mae:444453\n[111]\tvalidation_0-mae:444522\n[112]\tvalidation_0-mae:444508\n[113]\tvalidation_0-mae:444471\n[114]\tvalidation_0-mae:444503\n[115]\tvalidation_0-mae:444537\n[116]\tvalidation_0-mae:444473\n[117]\tvalidation_0-mae:444453\n[118]\tvalidation_0-mae:444457\n[119]\tvalidation_0-mae:444488\n[120]\tvalidation_0-mae:444418\n[121]\tvalidation_0-mae:444417\n[122]\tvalidation_0-mae:444337\n[123]\tvalidation_0-mae:444376\n[124]\tvalidation_0-mae:444372\n[125]\tvalidation_0-mae:444398\n[126]\tvalidation_0-mae:444363\n[127]\tvalidation_0-mae:444386\n[128]\tvalidation_0-mae:444416\n[129]\tvalidation_0-mae:444471\n[130]\tvalidation_0-mae:444445\nStopping. Best iteration:\n[98]\tvalidation_0-mae:443982\n\n"
    }
   ],
   "source": [
    "xgb_model = xgb_train(train_X, train_y, validation_X, validation_y)   \n",
    "\n",
    "    "
   ]
  },
  {
   "cell_type": "markdown",
   "metadata": {},
   "source": [
    "## Test"
   ]
  },
  {
   "cell_type": "code",
   "execution_count": 41,
   "metadata": {},
   "outputs": [
    {
     "name": "stdout",
     "output_type": "stream",
     "text": "(60, 1)\n(60, 1)\n              0   Totalpris\n0    5336260.50   5307520.0\n1    3184265.75   3140805.0\n2    2824209.75   2565092.0\n3    3166265.75   2872184.0\n4    2981417.25   3270920.0\n5    5358591.50   5130020.0\n6    4740355.00   4412920.0\n7    2658457.25   3003988.0\n8    2444631.75   2332915.0\n9    4398177.00   4569090.0\n10   4312013.00   4303320.0\n11   2655082.50   2447023.0\n12   7736399.50   7996020.0\n13   3093909.00   3373420.0\n14   3561390.25   3302170.0\n15   2874805.25   3087574.0\n16   6095255.00   5642920.0\n17   2404192.75   2281528.0\n18   2428185.00   2455902.0\n19   2842862.00   2748320.0\n20   2352141.25   2245920.0\n21   6058564.00   6111072.0\n22   3221440.50   3569727.0\n23   8743200.00   8720570.0\n24   5073911.50   5020512.0\n25   2824908.75   2339557.0\n26   6393089.00   6356320.0\n27   1295174.25   1096880.0\n28   3435502.50   3038822.0\n29  14296896.00  14351170.0\n30   3036343.50   3188474.0\n31   3175524.00   3175492.0\n32   6119909.50   5639992.0\n33   5627772.50   5628592.0\n34   4285148.50   3553148.0\n35   3727724.50   3585820.0\n36   4443495.50   4312180.0\n37   2911467.75   3066635.0\n38   2575544.00   2718366.0\n39   4276028.00   4412042.0\n40   3842941.25   4193972.0\n41   3230160.25   2774833.0\n42   2875248.25   2758420.0\n43   5395509.00   3809290.0\n44   3202456.75   3134546.0\n45   3119412.75   3433333.0\n46   3945882.75   3998842.0\n47   2494637.75   2150042.0\n48   3325594.50   3990836.0\n49   4193779.75   3804269.0\n50   3201461.00   3373472.0\n51   3238301.50   3740228.0\n52   3343340.25   3373420.0\n53   4599526.50   4817500.0\n54   3178314.50   3754706.0\n55   4846938.50   5013420.0\n56   3632573.00   3647320.0\n57   3588288.00   4095000.0\n58   2513153.75   2258140.0\n59   3715941.50   3988420.0\n"
    }
   ],
   "source": [
    "\n",
    "preds = pd.DataFrame(xgb_model.predict(test_X))\n",
    "print(preds.shape)\n",
    "print(test_y.shape)\n",
    "\n",
    "print(preds.join(test_y))"
   ]
  },
  {
   "cell_type": "code",
   "execution_count": null,
   "metadata": {},
   "outputs": [],
   "source": []
  }
 ],
 "metadata": {
  "kernelspec": {
   "display_name": "Python 3",
   "language": "python",
   "name": "python3"
  },
  "language_info": {
   "codemirror_mode": {
    "name": "ipython",
    "version": 3
   },
   "file_extension": ".py",
   "mimetype": "text/x-python",
   "name": "python",
   "nbconvert_exporter": "python",
   "pygments_lexer": "ipython3",
   "version": "3.6.9-final"
  }
 },
 "nbformat": 4,
 "nbformat_minor": 2
}