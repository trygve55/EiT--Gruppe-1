{
 "cells": [
  {
   "cell_type": "markdown",
   "metadata": {},
   "source": [
    "# Main Notebook"
   ]
  },
  {
   "cell_type": "code",
   "execution_count": 171,
   "metadata": {},
   "outputs": [
    {
     "name": "stdout",
     "output_type": "stream",
     "text": "Notebook initialized execution at 02.12.2020_14.38.28.\n"
    }
   ],
   "source": [
    "import os\n",
    "import gc\n",
    "import pytz\n",
    "import operator\n",
    "import numpy as np\n",
    "import pickle as pkl\n",
    "import xgboost as xgb\n",
    "from time import sleep\n",
    "from datetime import datetime\n",
    "from sklearn.preprocessing import StandardScaler\n",
    "from sklearn.model_selection import train_test_split\n",
    "from sklearn.preprocessing import LabelEncoder\n",
    "\n",
    "import warnings\n",
    "warnings.filterwarnings('ignore')\n",
    "warnings.filterwarnings(action = 'ignore', category = FutureWarning)\n",
    "warnings.filterwarnings(action = 'ignore', category = DeprecationWarning)\n",
    "\n",
    "import pandas as pd\n",
    "pd.set_option('display.max_rows', 500)\n",
    "pd.set_option('display.max_columns', 500)\n",
    "\n",
    "import sys\n",
    "sys.path.append('..')\n",
    "\n",
    "time = datetime.now(pytz.timezone('Europe/Oslo')).strftime('%m.%d.%Y_%H.%M.%S')\n",
    "print(f'Notebook initialized execution at {time}.')"
   ]
  },
  {
   "cell_type": "code",
   "execution_count": 172,
   "metadata": {},
   "outputs": [],
   "source": [
    "import xgboost as xgb"
   ]
  },
  {
   "cell_type": "markdown",
   "metadata": {},
   "source": [
    "## General Methods"
   ]
  },
  {
   "cell_type": "code",
   "execution_count": 173,
   "metadata": {},
   "outputs": [],
   "source": [
    "def memory_optimization(dfs):\n",
    "    for df in dfs:\n",
    "        del df\n",
    "    gc.collect()"
   ]
  },
  {
   "cell_type": "markdown",
   "metadata": {},
   "source": [
    "## Split Training and Validation"
   ]
  },
  {
   "cell_type": "code",
   "execution_count": 174,
   "metadata": {},
   "outputs": [],
   "source": [
    "def clean_and_encode(df_train, df_test):\n",
    "\n",
    "    df_train = df_train.fillna(value = 0)\n",
    "    df_test = df_test.fillna(value = 0)\n",
    "\n",
    "    fucked_cols = ['url', 'Kommunale avg.', 'Energimerking', 'Tomt', 'Utleiedel']\n",
    "    df_train = df_train.drop(fucked_cols, axis=1)\n",
    "    df_test = df_test.drop(fucked_cols, axis=1)\n",
    "    \n",
    "    print(df_train.head(30))\n",
    "\n",
    "    label_encoder = LabelEncoder()\n",
    "\n",
    "    for col in df_train.columns:\n",
    "        df_train[col] = label_encoder.fit_transform(df_train[col])\n",
    "        df_test[col] = label_encoder.fit_transform(df_test[col])\n",
    "\n",
    "    return df_train, df_test\n",
    "\n"
   ]
  },
  {
   "cell_type": "code",
   "execution_count": 175,
   "metadata": {},
   "outputs": [],
   "source": [
    "def split(df_train):\n",
    "    train_X, validation_X = train_test_split(df_train, test_size = 0.1, random_state = 0)\n",
    "\n",
    "    train_X = train_X.reset_index()\n",
    "    validation_X = validation_X.reset_index()\n",
    "    target = 'Totalpris'\n",
    "\n",
    "    train_y = train_X['Totalpris']\n",
    "    train_y = train_y.replace([np.inf, -np.inf], np.nan)\n",
    "    train_y = train_y.reset_index()\n",
    "    train_y = train_y.drop(['index'], axis = 1)\n",
    "    validation_y = validation_X[target]\n",
    "    validation_y = validation_y.replace([np.inf, -np.inf], np.nan)\n",
    "    validation_y = validation_y.reset_index()\n",
    "    validation_y = validation_y.drop(['index'], axis = 1)\n",
    "\n",
    "    train_X = train_X.drop(target, axis = 1)\n",
    "    validation_X = validation_X.drop(target, axis = 1)\n",
    "    \n",
    "    train_X = train_X.drop(['index'], axis = 1)\n",
    "    validation_X = validation_X.drop(['index'], axis = 1)\n",
    "\n",
    "    \n",
    "    return train_X, train_y, validation_X, validation_y"
   ]
  },
  {
   "cell_type": "markdown",
   "metadata": {},
   "source": [
    "## XGB Training"
   ]
  },
  {
   "cell_type": "code",
   "execution_count": 176,
   "metadata": {},
   "outputs": [],
   "source": [
    "def xgb_train( train_X, train_y, validation_X, validation_y):\n",
    "    model_name_wrt = f'../models/model.hdf5'\n",
    "\n",
    "    xgb_model = xgb.XGBRegressor(base_score = 0.5, booster = 'gbtree', colsample_bylevel = 1,\n",
    "                                 colsample_bytree = 1, gamma = 0, importance_type = 'gain',\n",
    "                                 learning_rate = 0.1, max_delta_step = 0, max_depth = 9,\n",
    "                                 min_child_weight = 1, missing = None, n_estimators = 10000, n_jobs = -1,\n",
    "                                 nthread = None, objective = 'reg:squarederror', random_state = 101, reg_alpha = 2,\n",
    "                                 reg_lambda = 0.2, scale_pos_weight = 1, seed = None, silent = False, subsample = 1)\n",
    "\n",
    "    xgb_model.fit(train_X, train_y, eval_set = [(validation_X, validation_y)], eval_metric = 'mae', \n",
    "                  early_stopping_rounds = 32, verbose = True)   \n",
    "    \n",
    "    xgb_model.save_model(model_name_wrt)\n",
    "    \n",
    "    return xgb_model"
   ]
  },
  {
   "cell_type": "code",
   "execution_count": 177,
   "metadata": {},
   "outputs": [],
   "source": [
    "def importance(xgb_model, train_X):\n",
    "    input_features = train_X.columns.values\n",
    "    feat_imp = xgb_model.feature_importances_\n",
    "    np.split(feat_imp, len(input_features))\n",
    "    \n",
    "    feat_imp_dict = {}\n",
    "    for i in range(0, len(input_features)):\n",
    "        feat_imp_dict[feat_imp[i]] = input_features[i]\n",
    "\n",
    "    sorted_feats = sorted(feat_imp_dict.items(), key = operator.itemgetter(0))\n",
    "    for i in range(len(sorted_feats) - 1, 0, -1):\n",
    "        print(sorted_feats[i])"
   ]
  },
  {
   "cell_type": "markdown",
   "execution_count": 107,
   "metadata": {},
   "outputs": [],
   "source": [
    "## Prepare Data"
   ]
  },
  {
   "cell_type": "code",
   "execution_count": 178,
   "metadata": {},
   "outputs": [
    {
     "name": "stdout",
     "output_type": "stream",
     "text": "Unnamed: 0                                      Postadresse  Omkostninger  \\\n0            0                 Langveien 3, 6509 Kristiansund N       22250.0   \n1            1     Fridtjof Nansens gate 9, 6509 Kristiansund N       76092.0   \n2            2  Kaptein Bødtkers gate 15 B, 6508 Kristiansund N       22420.0   \n3            3                Skolegata 12, 6509 Kristiansund N           0.0   \n4            4           Marstrands gate 2, 6508 Kristiansund N        8148.0   \n5            5                 Hauggata 19, 6509 Kristiansund N       54972.0   \n6            6        Helge Barmans gate 5, 6508 Kristiansund N       85902.0   \n7            7                 Langveien 4, 6509 Kristiansund N        1162.0   \n8            8  Kaptein Bødtkers gate 15 B, 6508 Kristiansund N       20920.0   \n9            9                  Hauggata 7, 6509 Kristiansund N       54472.0   \n10          10                 Fløyveien 5, 6508 Kristiansund N       80920.0   \n11          11                 Storgata 18, 6509 Kristiansund N       38340.0   \n12          12           KNUT SIEMS GATE 5, 6509 Kristiansund N           0.0   \n13          13   Fridtjof Nansens gate 2 B, 6509 Kristiansund N       47250.0   \n14          14          Marstrands gate 16, 6508 Kristiansund N       48592.0   \n15          15      Fredrik Selmers gate 8, 6508 Kristiansund N       29972.0   \n16          16          Marstrands gate 22, 6508 Kristiansund N       49920.0   \n17          17    Johan P. Clausens gate 1, 6508 Kristiansund N       71022.0   \n18          18             Helsings gate 4, 6509 Kristiansund N       42300.0   \n19          19                 Storgata 45, 6508 Kristiansund N           0.0   \n20          20      Fredrik Selmers gate 8, 6508 Kristiansund N       43402.0   \n21          21          Marstrands gate 17, 6508 Kristiansund N         960.0   \n22          22                Langveien 11, 6509 Kristiansund N       34920.0   \n23          23        Helge Barmans gate 5, 6508 Kristiansund N       98522.0   \n24          24        Marstrands gate 21 A, 6508 Kristiansund N       43420.0   \n25          25                 Fløyveien 8, 6508 Kristiansund N       95722.0   \n26          26     Konsul Knudtzons gate 9, 6509 Kristiansund N           0.0   \n27          27           Marstrands gate 2, 6508 Kristiansund N        8357.0   \n28          28                 Storgata 23, 6509 Kristiansund N        7923.0   \n29          29          Marstrands gate 22, 6508 Kristiansund N       47402.0   \n\n    Totalpris  Felleskost/mnd.     Boligtype          Eieform  Soverom  \\\n0    912250.0             1200     Leilighet  Eier (Selveier)        1   \n1   3066092.0                0  Tomannsbolig  Eier (Selveier)        5   \n2    872420.0             1250     Leilighet  Eier (Selveier)        1   \n3         0.0             6478     Leilighet            Andel        1   \n4   2868148.0             5796     Leilighet            Andel        2   \n5   2204972.0              485     Leilighet  Eier (Selveier)        2   \n6   3075902.0             1500     Leilighet  Eier (Selveier)        2   \n7   1297200.0             4094     Leilighet            Andel        2   \n8    810920.0             1250     Leilighet  Eier (Selveier)        1   \n9   2184472.0             1110     Leilighet  Eier (Selveier)        3   \n10  3270920.0                0  Tomannsbolig  Eier (Selveier)        3   \n11  1300332.0             3925     Leilighet  Eier (Selveier)        2   \n12        0.0             1000     Leilighet  Eier (Selveier)        3   \n13  1937250.0             1000     Leilighet  Eier (Selveier)        2   \n14  1938592.0              850     Leilighet  Eier (Selveier)        3   \n15  1179972.0              800     Leilighet  Eier (Selveier)        2   \n16  1999920.0              420     Leilighet  Eier (Selveier)        2   \n17  2461022.0              600     Leilighet  Eier (Selveier)        2   \n18  1692300.0              682     Leilighet  Eier (Selveier)        2   \n19        0.0             3063     Leilighet  Eier (Selveier)        2   \n20  1333402.0              800     Leilighet  Eier (Selveier)        1   \n21  1754030.0             4905     Leilighet            Andel        2   \n22  1384920.0             2000     Leilighet  Eier (Selveier)        2   \n23  3588522.0             1500     Leilighet  Eier (Selveier)        3   \n24  1733420.0                0  Tomannsbolig  Eier (Selveier)        2   \n25  3875722.0                0  Tomannsbolig  Eier (Selveier)        5   \n26  1703900.0             4534     Leilighet            Andel        2   \n27  3268357.0             5171     Leilighet            Andel        2   \n28  1347923.0             3245     Leilighet            Andel        1   \n29  1497402.0              978     Leilighet  Eier (Selveier)        3   \n\n    Primærrom  Bruksareal  Etasje  Byggeår   Rom  Tomteareal (eiet)  \\\n0        36.0          36     1.0   1948.0   2.0              290.0   \n1       254.0         321     4.0   1949.0  10.0              165.0   \n2        54.0          54     2.0   1945.0   0.0              544.0   \n3         0.0          59     4.0      0.0   2.0                0.0   \n4        69.0          73     2.0   2006.0   3.0             1497.0   \n5        62.0          62     3.0   1954.0   3.0              379.0   \n6        86.0          86     3.0   1949.0   0.0              284.0   \n7        63.0          63     2.0   1956.0   3.0                0.0   \n8        54.0          54     1.0   1942.0   2.0              544.0   \n9       100.0         100     3.0   1950.0   4.0              209.0   \n10      183.0         211     0.0   1913.0   6.0              216.0   \n11       52.0          52     4.0   1958.0   3.0              244.0   \n12      208.0         214     3.0   2001.0   0.0              632.0   \n13       79.0          82     2.0   1957.0   3.0              260.0   \n14      120.0         126     2.0   1912.0   4.0              269.0   \n15       63.0          65     1.0   1916.0   3.0              401.0   \n16      106.0         108     2.0   1915.0   3.0              207.0   \n17      107.0         107     1.0   1915.0   2.0              216.0   \n18       84.0          91     2.0   1950.0   3.0              236.0   \n19       77.0          81     4.0   1996.0   3.0              985.0   \n20       59.0          59     1.0   1916.0   2.0              401.0   \n21        0.0          63     2.0   1993.0   0.0             2987.0   \n22       62.0          62     1.0   1950.0   3.0              403.0   \n23      118.0         121     2.0   1949.0   4.0              284.0   \n24       92.0          98     0.0   1950.0   0.0              246.0   \n25      227.0         254     4.0   1912.0   8.0              216.0   \n26       65.0          65     1.0   1946.0   3.0              977.0   \n27       89.0          89     1.0   2007.0   4.0             1497.0   \n28       48.0          51     0.0   2006.0   1.0                0.0   \n29       88.0          91     1.0   1915.0   0.0              207.0   \n\n    parkering  fiber  kabel-tv   tg 0   tg 1   tg 2  vedovn  varmepumpe  \\\n0       False  False     False  False  False  False   False       False   \n1        True  False      True  False  False  False    True       False   \n2        True  False     False  False  False  False    True       False   \n3       False  False     False  False  False  False   False       False   \n4        True  False      True  False  False  False   False       False   \n5       False  False      True  False  False  False    True        True   \n6        True  False      True  False  False  False   False       False   \n7        True  False      True  False  False  False   False       False   \n8        True  False     False  False  False  False    True       False   \n9        True  False      True  False  False  False   False       False   \n10       True  False     False  False  False  False    True       False   \n11      False  False     False  False  False  False    True       False   \n12       True  False      True  False  False  False    True       False   \n13       True  False      True  False  False  False    True       False   \n14       True  False      True  False  False  False    True        True   \n15      False  False     False  False  False  False    True       False   \n16       True  False     False  False  False  False    True       False   \n17       True  False      True  False  False  False    True        True   \n18       True  False     False  False  False  False    True        True   \n19       True  False      True  False  False  False   False       False   \n20      False  False      True  False  False  False    True       False   \n21       True  False      True  False  False  False   False       False   \n22       True  False     False  False  False  False   False       False   \n23       True  False      True  False  False  False    True       False   \n24       True  False     False  False  False  False    True       False   \n25       True  False      True  False  False  False    True       False   \n26       True  False      True  False  False  False   False       False   \n27       True  False      True  False  False  False   False       False   \n28       True  False     False  False  False  False   False       False   \n29       True  False     False  False  False  False   False       False   \n\n    fjernvarme  terasse  utsikt  kjøkkenøy   hage  garderobe  oppusset  \\\n0        False    False   False      False   True      False      True   \n1        False     True    True      False  False      False     False   \n2        False     True   False      False  False      False     False   \n3        False    False   False      False  False      False     False   \n4        False     True   False      False   True      False     False   \n5        False     True    True      False  False      False      True   \n6        False     True    True       True  False      False      True   \n7        False     True   False      False  False      False     False   \n8        False     True   False      False  False      False     False   \n9        False     True   False      False   True       True     False   \n10       False     True   False      False  False      False      True   \n11       False    False    True      False  False       True      True   \n12       False     True    True      False  False      False      True   \n13       False     True   False      False   True       True     False   \n14       False     True    True      False  False      False     False   \n15       False    False   False      False   True      False      True   \n16       False     True   False       True  False       True      True   \n17       False     True    True      False  False      False      True   \n18       False     True   False      False  False       True      True   \n19       False     True    True       True  False      False     False   \n20       False     True   False      False   True      False      True   \n21       False     True    True      False   True      False     False   \n22       False     True   False      False  False       True     False   \n23       False     True    True       True  False       True      True   \n24       False     True   False      False  False      False     False   \n25       False     True   False      False  False      False     False   \n26       False     True   False       True  False      False      True   \n27       False     True   False      False   True       True     False   \n28       False    False   False      False  False      False     False   \n29       False     True   False      False   True      False     False   \n\n    oppussingsobjekt    bod  Bruttoareal  Verditakst  Formuesverdi  \\\n0              False   True          0.0         0.0           0.0   \n1              False   True        351.0   3190000.0           0.0   \n2              False   True         62.0         0.0      387769.0   \n3              False   True          0.0         0.0           0.0   \n4              False   True         81.0         0.0      516827.0   \n5              False  False         67.0         0.0      374985.0   \n6              False   True          0.0         0.0      991562.0   \n7              False   True          0.0   1200000.0           0.0   \n8              False   True         62.0         0.0      347607.0   \n9              False  False        111.0         0.0           0.0   \n10             False   True        234.0         0.0      682698.0   \n11             False   True         60.0         0.0      330354.0   \n12             False  False          0.0   6790000.0           1.0   \n13             False   True         92.0         0.0      546867.0   \n14             False   True        137.0         0.0      584844.0   \n15             False  False          0.0         0.0      387769.0   \n16             False   True        126.0         0.0      512396.0   \n17             False  False        118.0         0.0      537547.0   \n18             False   True         99.0         0.0      473100.0   \n19             False   True          0.0         0.0      455036.0   \n20             False  False         68.0         0.0      435924.0   \n21             False   True         70.0         0.0      398329.0   \n22             False   True         71.0         0.0      379266.0   \n23             False   True          0.0         0.0      588465.0   \n24             False   True          0.0         0.0      406083.0   \n25             False   True        283.0   3850000.0      841138.0   \n26             False   True         81.0         0.0      406947.0   \n27             False   True         95.0         0.0      583553.0   \n28             False   True          0.0         0.0           0.0   \n29             False   True          0.0   1650000.0      514262.0   \n\n    Fellesgjeld  Pris med fellesgjeld  Fellesformue  \n0           0.0                   0.0           0.0  \n1           0.0                   0.0           0.0  \n2           0.0                   0.0           0.0  \n3     1581408.0             2045302.0           0.0  \n4     1170000.0                   0.0       25312.0  \n5           0.0                   0.0           0.0  \n6           0.0                   0.0           0.0  \n7      250993.0                   0.0       51352.0  \n8           0.0                   0.0           0.0  \n9           0.0                   0.0           0.0  \n10          0.0                   0.0           0.0  \n11     171992.0                   0.0           0.0  \n12          0.0                   0.0           0.0  \n13          0.0                   0.0           0.0  \n14          0.0                   0.0           0.0  \n15          0.0                   0.0           0.0  \n16          0.0                   0.0           0.0  \n17          0.0                   0.0           0.0  \n18          0.0                   0.0           0.0  \n19      93000.0             3243000.0           0.0  \n20          0.0                   0.0           0.0  \n21      63070.0                   0.0       15330.0  \n22          0.0                   0.0           0.0  \n23          0.0                   0.0           0.0  \n24          0.0                   0.0           0.0  \n25          0.0                   0.0           0.0  \n26     313900.0                   0.0       75191.0  \n27     660000.0                   0.0       30067.0  \n28          0.0                   0.0           0.0  \n29          0.0                   0.0           0.0  \n"
    }
   ],
   "source": [
    "start_time = datetime.now()\n",
    "\n",
    "df_train = pd.read_csv(f'../input_finn/finn_30_rows.csv')\n",
    "df_test  = pd.read_csv(f'../input_finn/finn_30_rows.csv')\n",
    "\n",
    "train_X, test_X = clean_and_encode(df_train, df_test)\n",
    "\n",
    "train_X, train_y, validation_X, validation_y = split(train_X)"
   ]
  },
  {
   "cell_type": "markdown",
   "execution_count": null,
   "metadata": {},
   "outputs": [],
   "source": [
    "## Train and predict"
   ]
  },
  {
   "cell_type": "code",
   "execution_count": 179,
   "metadata": {},
   "outputs": [
    {
     "name": "stdout",
     "output_type": "stream",
     "text": "[0]\tvalidation_0-mae:9.98533\nWill train until validation_0-mae hasn't improved in 32 rounds.\n[1]\tvalidation_0-mae:9.059\n[2]\tvalidation_0-mae:8.31076\n[3]\tvalidation_0-mae:7.62097\n[4]\tvalidation_0-mae:7.09435\n[5]\tvalidation_0-mae:6.47367\n[6]\tvalidation_0-mae:5.84762\n[7]\tvalidation_0-mae:5.45829\n[8]\tvalidation_0-mae:4.99031\n[9]\tvalidation_0-mae:4.67186\n[10]\tvalidation_0-mae:4.16321\n[11]\tvalidation_0-mae:3.72379\n[12]\tvalidation_0-mae:3.47449\n[13]\tvalidation_0-mae:3.29503\n[14]\tvalidation_0-mae:3.07264\n[15]\tvalidation_0-mae:2.88977\n[16]\tvalidation_0-mae:2.76909\n[17]\tvalidation_0-mae:2.61625\n[18]\tvalidation_0-mae:2.47381\n[19]\tvalidation_0-mae:2.34716\n[20]\tvalidation_0-mae:2.21945\n[21]\tvalidation_0-mae:2.08237\n[22]\tvalidation_0-mae:2.03209\n[23]\tvalidation_0-mae:1.94237\n[24]\tvalidation_0-mae:1.84399\n[25]\tvalidation_0-mae:1.75343\n[26]\tvalidation_0-mae:1.68317\n[27]\tvalidation_0-mae:1.61342\n[28]\tvalidation_0-mae:1.5706\n[29]\tvalidation_0-mae:1.5706\n[30]\tvalidation_0-mae:1.55954\n[31]\tvalidation_0-mae:1.51677\n[32]\tvalidation_0-mae:1.49836\n[33]\tvalidation_0-mae:1.48174\n[34]\tvalidation_0-mae:1.45554\n[35]\tvalidation_0-mae:1.47736\n[36]\tvalidation_0-mae:1.45397\n[37]\tvalidation_0-mae:1.47028\n[38]\tvalidation_0-mae:1.47028\n[39]\tvalidation_0-mae:1.48454\n[40]\tvalidation_0-mae:1.48024\n[41]\tvalidation_0-mae:1.49493\n[42]\tvalidation_0-mae:1.50665\n[43]\tvalidation_0-mae:1.49168\n[44]\tvalidation_0-mae:1.49944\n[45]\tvalidation_0-mae:1.49944\n[46]\tvalidation_0-mae:1.52168\n[47]\tvalidation_0-mae:1.54179\n[48]\tvalidation_0-mae:1.54179\n[49]\tvalidation_0-mae:1.5557\n[50]\tvalidation_0-mae:1.56769\n[51]\tvalidation_0-mae:1.56025\n[52]\tvalidation_0-mae:1.57206\n[53]\tvalidation_0-mae:1.57206\n[54]\tvalidation_0-mae:1.58209\n[55]\tvalidation_0-mae:1.58209\n[56]\tvalidation_0-mae:1.58742\n[57]\tvalidation_0-mae:1.58742\n[58]\tvalidation_0-mae:1.58742\n[59]\tvalidation_0-mae:1.59525\n[60]\tvalidation_0-mae:1.59525\n[61]\tvalidation_0-mae:1.60106\n[62]\tvalidation_0-mae:1.60106\n[63]\tvalidation_0-mae:1.60575\n[64]\tvalidation_0-mae:1.6001\n[65]\tvalidation_0-mae:1.60425\n[66]\tvalidation_0-mae:1.60425\n[67]\tvalidation_0-mae:1.60995\n[68]\tvalidation_0-mae:1.60515\nStopping. Best iteration:\n[36]\tvalidation_0-mae:1.45397\n\n"
    }
   ],
   "source": [
    "xgb_model = xgb_train(train_X, train_y, validation_X, validation_y)   \n",
    "\n",
    "    "
   ]
  },
  {
   "cell_type": "markdown",
   "metadata": {},
   "source": [
    "## Make submission csv"
   ]
  }
 ],
 "metadata": {
  "kernelspec": {
   "display_name": "Python 3",
   "language": "python",
   "name": "python3"
  },
  "language_info": {
   "codemirror_mode": {
    "name": "ipython",
    "version": 3
   },
   "file_extension": ".py",
   "mimetype": "text/x-python",
   "name": "python",
   "nbconvert_exporter": "python",
   "pygments_lexer": "ipython3",
   "version": "3.6.8-final"
  }
 },
 "nbformat": 4,
 "nbformat_minor": 2
}